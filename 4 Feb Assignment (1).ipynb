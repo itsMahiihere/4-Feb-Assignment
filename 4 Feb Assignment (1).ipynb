{
 "cells": [
  {
   "cell_type": "code",
   "execution_count": 2,
   "id": "e35252bb-5387-4ffd-b6f4-441bc2403b21",
   "metadata": {},
   "outputs": [],
   "source": [
    "# Q1. Ans:-"
   ]
  },
  {
   "cell_type": "code",
   "execution_count": 4,
   "id": "b6e5ac65-7b65-4383-94a0-bb4a850d83e3",
   "metadata": {},
   "outputs": [
    {
     "name": "stdout",
     "output_type": "stream",
     "text": [
      "Original list of tuple is:\n",
      "[('Sachin Tendulkar', 34357), ('Ricky Ponting', 27483), ('Jack Kallis', 25534), ('Virat Kohli', 24936)]\n",
      "\n",
      "Sorting the List of Tuples:\n",
      "[('Virat Kohli', 24936), ('Jack Kallis', 25534), ('Ricky Ponting', 27483), ('Sachin Tendulkar', 34357)]\n"
     ]
    }
   ],
   "source": [
    "Score = [('Sachin Tendulkar', 34357), ('Ricky Ponting', 27483), ('Jack Kallis', 25534), ('Virat Kohli', 24936)]\n",
    "print(\"Original list of tuple is:\")\n",
    "print(Score)\n",
    "Player= Score.sort(key = lambda x: x[1])\n",
    "print(\"\\nSorting the List of Tuples:\")\n",
    "print(Score) "
   ]
  },
  {
   "cell_type": "code",
   "execution_count": 5,
   "id": "b819684a-a5ca-4853-acc0-049dac8cce8f",
   "metadata": {},
   "outputs": [],
   "source": [
    "# Q2. Ans:-"
   ]
  },
  {
   "cell_type": "code",
   "execution_count": 1,
   "id": "1e7eac55-91c1-4f16-828e-1ff2240f241f",
   "metadata": {},
   "outputs": [],
   "source": [
    "list1=[1,2,3,4,5,6,7,8,9,10]\n",
    "list2 = list(map(lambda x : x**2, list1))"
   ]
  },
  {
   "cell_type": "code",
   "execution_count": 2,
   "id": "d4312584-1c11-434c-98e8-46f9ad9b9241",
   "metadata": {},
   "outputs": [
    {
     "data": {
      "text/plain": [
       "[1, 4, 9, 16, 25, 36, 49, 64, 81, 100]"
      ]
     },
     "execution_count": 2,
     "metadata": {},
     "output_type": "execute_result"
    }
   ],
   "source": [
    "list2"
   ]
  },
  {
   "cell_type": "code",
   "execution_count": null,
   "id": "3a2591d6-6af1-44ca-b2f0-282dc7335c7d",
   "metadata": {},
   "outputs": [],
   "source": [
    "# Q3. Ans:-"
   ]
  },
  {
   "cell_type": "code",
   "execution_count": 10,
   "id": "b9ea1ab7-2073-4b80-bef0-a708892b7793",
   "metadata": {},
   "outputs": [
    {
     "name": "stdout",
     "output_type": "stream",
     "text": [
      "tuple of string is: ('1', '2', '3', '4', '5', '6', '7', '8', '9', '10')\n"
     ]
    }
   ],
   "source": [
    "list1= [1, 2, 3, 4, 5, 6, 7, 8, 9, 10]\n",
    "list2=tuple(map(lambda i : str(i),list1))\n",
    "print(\"tuple of string is:\",list2)"
   ]
  },
  {
   "cell_type": "code",
   "execution_count": 39,
   "id": "6c4408ec-51a9-4e8f-ad37-f5d8ea8d646d",
   "metadata": {},
   "outputs": [],
   "source": [
    "# Q4. Ans:-\n"
   ]
  },
  {
   "cell_type": "code",
   "execution_count": 45,
   "id": "0191405e-331f-48bd-99cc-1589d37f90a6",
   "metadata": {},
   "outputs": [
    {
     "name": "stdout",
     "output_type": "stream",
     "text": [
      "15511210043330985984000000\n"
     ]
    }
   ],
   "source": [
    "from functools import reduce\n",
    "list1=[]\n",
    "for i in range(1,26):\n",
    "    list1.append(i)   \n",
    "product=reduce(lambda x,y : x * y,list1)\n",
    "print(product)"
   ]
  },
  {
   "cell_type": "code",
   "execution_count": 53,
   "id": "63fd8c03-cf5c-4fbb-94aa-b56c9e1afa49",
   "metadata": {},
   "outputs": [],
   "source": [
    "# Q5 Ans:-"
   ]
  },
  {
   "cell_type": "code",
   "execution_count": 57,
   "id": "8916c4a8-a0fb-4239-8e55-27b396fdb33d",
   "metadata": {},
   "outputs": [
    {
     "name": "stdout",
     "output_type": "stream",
     "text": [
      "The numbers which are divisible by 2 and three is : [6, 60, 90, 120]\n"
     ]
    }
   ],
   "source": [
    "def fun1(num):\n",
    "    return num%2==0 and num%3==0 \n",
    "number=[2, 3, 6, 9, 27, 60, 90, 120, 55, 46]\n",
    "filtered_number = list(filter(fun1, number))\n",
    "\n",
    "print(\"The numbers which are divisible by 2 and three is :\",filtered_number)"
   ]
  },
  {
   "cell_type": "code",
   "execution_count": 58,
   "id": "32f30d5d-7616-4a57-bc90-46f1d75f5899",
   "metadata": {},
   "outputs": [],
   "source": [
    "# Q6. Ans:-"
   ]
  },
  {
   "cell_type": "code",
   "execution_count": 62,
   "id": "544c2d7d-b5bd-4c1b-b2ec-237581d3f60f",
   "metadata": {},
   "outputs": [
    {
     "name": "stdout",
     "output_type": "stream",
     "text": [
      "palindrome string from list is:  ['php', 'aba', 'radar', 'level']\n"
     ]
    }
   ],
   "source": [
    "def fun1(word):\n",
    "    return word== word[::-1]\n",
    "list1=['python', 'php', 'aba', 'radar', 'level']\n",
    "palindrome_number=list(filter(lambda x: fun1(x),list1))\n",
    "print(\"palindrome string from list is: \",palindrome_number)"
   ]
  },
  {
   "cell_type": "code",
   "execution_count": null,
   "id": "28796aac-4392-4d6f-8750-1ac6244e59b2",
   "metadata": {},
   "outputs": [],
   "source": []
  }
 ],
 "metadata": {
  "kernelspec": {
   "display_name": "Python 3 (ipykernel)",
   "language": "python",
   "name": "python3"
  },
  "language_info": {
   "codemirror_mode": {
    "name": "ipython",
    "version": 3
   },
   "file_extension": ".py",
   "mimetype": "text/x-python",
   "name": "python",
   "nbconvert_exporter": "python",
   "pygments_lexer": "ipython3",
   "version": "3.10.8"
  }
 },
 "nbformat": 4,
 "nbformat_minor": 5
}
